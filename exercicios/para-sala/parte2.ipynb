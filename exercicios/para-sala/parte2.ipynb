{
 "cells": [
  {
   "cell_type": "code",
   "execution_count": 3,
   "metadata": {},
   "outputs": [],
   "source": [
    "import pandas as pd"
   ]
  },
  {
   "cell_type": "code",
   "execution_count": null,
   "metadata": {},
   "outputs": [],
   "source": [
    "df_pedidos = pd.read_csv('material/dados/olist_orders_dataset.csv')\n",
    "df_pedidos"
   ]
  },
  {
   "cell_type": "code",
   "execution_count": null,
   "metadata": {},
   "outputs": [],
   "source": [
    "df_pedidos.describe(include='all')"
   ]
  },
  {
   "cell_type": "code",
   "execution_count": null,
   "metadata": {},
   "outputs": [],
   "source": [
    "df_itens_pedido = pd.read_csv('material/dados/olist_order_items_dataset.csv')\n",
    "df_itens_pedido"
   ]
  },
  {
   "cell_type": "code",
   "execution_count": null,
   "metadata": {},
   "outputs": [],
   "source": [
    "df_itens_pedido.describe(include='all')"
   ]
  },
  {
   "cell_type": "code",
   "execution_count": null,
   "metadata": {},
   "outputs": [],
   "source": [
    "df_consumidor = pd.read_csv('dados/olist_customers_dataset.csv')\n",
    "df_consumidor"
   ]
  },
  {
   "cell_type": "code",
   "execution_count": null,
   "metadata": {},
   "outputs": [],
   "source": [
    "df_consumidor.describe(include='all')"
   ]
  },
  {
   "cell_type": "code",
   "execution_count": null,
   "metadata": {},
   "outputs": [],
   "source": [
    "df_a = pd.DataFrame({'id_a': [1,2,3,4,8]})\n",
    "df_a"
   ]
  },
  {
   "cell_type": "code",
   "execution_count": null,
   "metadata": {},
   "outputs": [],
   "source": [
    "df_b = pd.DataFrame({'id_b': [1,2,3,4,5,6]})\n",
    "df_b"
   ]
  },
  {
   "cell_type": "code",
   "execution_count": null,
   "metadata": {},
   "outputs": [],
   "source": [
    "df_uniao = pd.merge(df_a, df_b, left_on='id_a', right_on='id_b', how='inner')\n",
    "df_uniao"
   ]
  },
  {
   "cell_type": "code",
   "execution_count": null,
   "metadata": {},
   "outputs": [],
   "source": [
    "df_esquerda = pd.merge(df_a, df_b, left_on='id_a', right_on='id_b', how='left')\n",
    "df_esquerda"
   ]
  },
  {
   "cell_type": "code",
   "execution_count": null,
   "metadata": {},
   "outputs": [],
   "source": [
    "df_direita = pd.merge(df_a, df_b, left_on='id_a', right_on='id_b', how='right')\n",
    "df_direita"
   ]
  },
  {
   "cell_type": "code",
   "execution_count": null,
   "metadata": {},
   "outputs": [],
   "source": [
    "df_tudo = pd.merge(df_a, df_b, left_on='id_a', right_on='id_b', how='outer')\n",
    "df_tudo"
   ]
  },
  {
   "cell_type": "code",
   "execution_count": null,
   "metadata": {},
   "outputs": [],
   "source": [
    "df_olist_pedidos = pd.merge(df_pedidos, df_itens_pedido, on=['order_id'], how='inner')\n",
    "df_olist_pedidos"
   ]
  },
  {
   "cell_type": "code",
   "execution_count": null,
   "metadata": {},
   "outputs": [],
   "source": [
    "df_olist_pedidos_uf = pd.merge(df_olist_pedidos, df_consumidor, on=['customer_id'], how='inner')\n",
    "df_olist_pedidos_uf"
   ]
  },
  {
   "cell_type": "code",
   "execution_count": null,
   "metadata": {},
   "outputs": [],
   "source": [
    "# Vamos entender um pouquinho melhor dos nossos dados\n",
    "df_pedidos.info()"
   ]
  },
  {
   "cell_type": "code",
   "execution_count": null,
   "metadata": {},
   "outputs": [],
   "source": [
    "df_pedidos[df_pedidos.order_approved_at.isna()]"
   ]
  },
  {
   "cell_type": "code",
   "execution_count": null,
   "metadata": {},
   "outputs": [],
   "source": [
    "columns_drop = ['order_approved_at', 'order_delivered_carrier_date', 'order_estimated_delivery_date']\n",
    "df_pedidos = df_pedidos.drop(columns_drop, axis=1)\n",
    "df_pedidos"
   ]
  },
  {
   "cell_type": "code",
   "execution_count": null,
   "metadata": {},
   "outputs": [],
   "source": [
    "df_pedidos['order_status'].unique()"
   ]
  },
  {
   "cell_type": "code",
   "execution_count": null,
   "metadata": {},
   "outputs": [],
   "source": [
    "df_pedidos['order_status'].value_counts()"
   ]
  },
  {
   "cell_type": "code",
   "execution_count": null,
   "metadata": {},
   "outputs": [],
   "source": [
    "df_pedidos = df_pedidos.loc[df_pedidos['order_status'] == 'delivered']\n",
    "df_pedidos"
   ]
  },
  {
   "cell_type": "code",
   "execution_count": null,
   "metadata": {},
   "outputs": [],
   "source": [
    "# Filtrando somente pedidos finalizados, percebemos que perdemos um número razoável de linhas, cerca de 3 mil.\n",
    "# Agora, com nosso dataset filtrado, precisamos resetar o seu index:\n",
    "df_pedidos = df_pedidos.reset_index(drop=True)\n",
    "df_pedidos"
   ]
  },
  {
   "cell_type": "code",
   "execution_count": null,
   "metadata": {},
   "outputs": [],
   "source": [
    "df_pedidos.info()"
   ]
  },
  {
   "cell_type": "code",
   "execution_count": null,
   "metadata": {},
   "outputs": [],
   "source": [
    "# Vamos transformar nossas colunas de data (que estão como string) em data: \n",
    "df_pedidos['order_purchase_timestamp'] = pd.to_datetime(df_pedidos['order_purchase_timestamp'])\n",
    "df_pedidos['order_delivered_customer_date'] = pd.to_datetime(df_pedidos['order_delivered_customer_date'])\n",
    "\n",
    "# Agora sim, vamos criar uma coluna de data e de mês!\n",
    "df_pedidos['reference_date'] = df_pedidos['order_purchase_timestamp'].dt.date\n",
    "df_pedidos['reference_month'] = df_pedidos['order_purchase_timestamp'].dt.strftime('%Y-%m-01')\n",
    "df_pedidos['reference_month'] = pd.to_datetime(df_pedidos['reference_month'])\n",
    "df_pedidos"
   ]
  },
  {
   "cell_type": "code",
   "execution_count": null,
   "metadata": {},
   "outputs": [],
   "source": [
    "# Vamos entender um pouquinho melhor dos nossos dados\n",
    "df_itens_pedido.info()"
   ]
  },
  {
   "cell_type": "code",
   "execution_count": null,
   "metadata": {},
   "outputs": [],
   "source": [
    "# Vamos entender um pouquinho melhor dos nossos dados\n",
    "df_consumidor.info()"
   ]
  },
  {
   "cell_type": "code",
   "execution_count": null,
   "metadata": {},
   "outputs": [],
   "source": [
    "df_consumidor.head()"
   ]
  },
  {
   "cell_type": "code",
   "execution_count": null,
   "metadata": {},
   "outputs": [],
   "source": [
    "df_consumidor = pd.read_csv('dados/olist_customers_dataset.csv', dtype={\"customer_zip_code_prefix\": \"string\"})\n",
    "df_consumidor"
   ]
  },
  {
   "cell_type": "code",
   "execution_count": null,
   "metadata": {},
   "outputs": [],
   "source": [
    "df_consumidor = df_consumidor.drop('customer_unique_id', axis=1)\n",
    "df_consumidor"
   ]
  },
  {
   "cell_type": "code",
   "execution_count": null,
   "metadata": {},
   "outputs": [],
   "source": [
    "# Jutando os df pedidos e itens de pedidos\n",
    "df_olist = pd.merge(df_pedidos, df_itens_pedido, on='order_id', how='inner')\n",
    "df_olist"
   ]
  },
  {
   "cell_type": "code",
   "execution_count": null,
   "metadata": {},
   "outputs": [],
   "source": [
    "# Jutando agora com os dados de consumidor\n",
    "df_olist = pd.merge(df_olist, df_consumidor, on='customer_id', how='inner')\n",
    "df_olist\n"
   ]
  },
  {
   "cell_type": "code",
   "execution_count": null,
   "metadata": {},
   "outputs": [],
   "source": [
    "# Exportando a base final\n",
    "df_olist.to_csv('base_final_s14_olist.csv', index=False)"
   ]
  },
  {
   "cell_type": "code",
   "execution_count": null,
   "metadata": {},
   "outputs": [],
   "source": [
    "# Aqui estamos buscando uma estatística descritiva, podemos utilizar a nossa função describe() para trazer essas informações\n",
    "df_olist.describe().T"
   ]
  },
  {
   "cell_type": "code",
   "execution_count": null,
   "metadata": {},
   "outputs": [],
   "source": [
    "df_olist['price'].mean()"
   ]
  },
  {
   "cell_type": "code",
   "execution_count": null,
   "metadata": {},
   "outputs": [],
   "source": [
    "import seaborn as sns\n",
    "import matplotlib.pyplot as plt"
   ]
  },
  {
   "cell_type": "code",
   "execution_count": null,
   "metadata": {},
   "outputs": [],
   "source": [
    "plt.figure(figsize=(15,8))\n",
    "sns.histplot(df_olist[\"price\"], binwidth=50);"
   ]
  },
  {
   "cell_type": "code",
   "execution_count": null,
   "metadata": {},
   "outputs": [],
   "source": [
    "df_sazonalidade = df_olist.groupby('reference_month').agg({'order_id': 'nunique'})\n",
    "df_sazonalidade.sort_values(by='order_id', ascending=False)"
   ]
  },
  {
   "cell_type": "code",
   "execution_count": null,
   "metadata": {},
   "outputs": [],
   "source": [
    "plt.figure(figsize=(15,5))\n",
    "sns.lineplot(data=df_sazonalidade.reset_index().sort_values(\"reference_month\"), x=\"reference_month\", y=\"order_id\")\n",
    "plt.xticks(rotation=45)"
   ]
  },
  {
   "cell_type": "code",
   "execution_count": null,
   "metadata": {},
   "outputs": [],
   "source": [
    "date_sazonality = df_olist.groupby('reference_date').agg({'order_id': 'nunique'}).reset_index().sort_values(\"reference_date\")"
   ]
  },
  {
   "cell_type": "code",
   "execution_count": null,
   "metadata": {},
   "outputs": [],
   "source": [
    "plt.figure(figsize=(15,5))\n",
    "sns.lineplot(data=date_sazonality, \n",
    "             x=\"reference_date\", y=\"order_id\")\n",
    "\n",
    "# Limitar o número de ticks no eixo x\n",
    "plt.xticks(date_sazonality['reference_date'][::10], rotation=45)  # Altere o valor de '5' para outro intervalo desejado\n",
    ";"
   ]
  },
  {
   "cell_type": "code",
   "execution_count": null,
   "metadata": {},
   "outputs": [],
   "source": [
    "plt.figure(figsize=(15,5))\n",
    "sns.lineplot(data=date_sazonality[(date_sazonality.reference_date >= pd.to_datetime(\"2018-01-01\")) & (date_sazonality.reference_date <= pd.to_datetime(\"2018-03-01\"))], \n",
    "             x=\"reference_date\", y=\"order_id\")\n",
    "plt.xticks(rotation=45);"
   ]
  },
  {
   "cell_type": "code",
   "execution_count": null,
   "metadata": {},
   "outputs": [],
   "source": [
    "df_olist[\"day_of_week\"] = df_olist[\"reference_date\"].apply(lambda x: pd.to_datetime(x).day_of_week)\n",
    "df_olist[\"day_name\"] = df_olist[\"reference_date\"].dt.day_name()"
   ]
  },
  {
   "cell_type": "code",
   "execution_count": null,
   "metadata": {},
   "outputs": [],
   "source": [
    "df_olist[(df_olist.reference_date >= \"2018-01-01\") & (df_olist.reference_date <= \"2018-03-01\")].sort_values(\"reference_date\")[[\"reference_date\", \"day_of_week\", \"day_name\"]].drop_duplicates()"
   ]
  },
  {
   "cell_type": "code",
   "execution_count": null,
   "metadata": {},
   "outputs": [],
   "source": [
    "df_olist[\"month\"] = df_olist[\"reference_month\"].apply(lambda x: pd.to_datetime(x).month)\n",
    "\n",
    "month_sazonality = df_olist.groupby(\"month\").agg({\"order_id\": \"nunique\"})"
   ]
  },
  {
   "cell_type": "code",
   "execution_count": null,
   "metadata": {},
   "outputs": [],
   "source": [
    "plt.figure(figsize=(15,5))\n",
    "sns.lineplot(data=month_sazonality, \n",
    "             x=\"month\", y=\"order_id\")"
   ]
  },
  {
   "cell_type": "code",
   "execution_count": null,
   "metadata": {},
   "outputs": [],
   "source": [
    "df_olist[\"year\"] = df_olist[\"reference_date\"].dt.year\n",
    "year_month_sazonality = df_olist.groupby([\"year\", \"month\"]).agg({\"order_id\": \"nunique\"})\n",
    "\n",
    "plt.figure(figsize=(15,5))\n",
    "sns.lineplot(data=year_month_sazonality, \n",
    "             x=\"month\", y=\"order_id\", hue=\"year\")"
   ]
  },
  {
   "cell_type": "code",
   "execution_count": null,
   "metadata": {},
   "outputs": [],
   "source": [
    "print(df_olist.reference_date.min())\n",
    "print(df_olist.reference_date.max())"
   ]
  },
  {
   "cell_type": "code",
   "execution_count": null,
   "metadata": {},
   "outputs": [],
   "source": [
    "df_olist['order_delivered_customer_date'] = pd.to_datetime(df_olist['order_delivered_customer_date'])\n",
    "df_olist['order_delivered_date'] = df_olist['order_delivered_customer_date'].dt.date\n",
    "\n",
    "df_olist['shipping_limit_dt'] = pd.to_datetime(df_olist['shipping_limit_date']).dt.date\n",
    "\n",
    "# condicional \n",
    "df_olist.loc[df_olist['order_delivered_date'] > df_olist['shipping_limit_dt'], 'status_entrega'] = 'ATRASADO'\n",
    "df_olist.loc[df_olist['order_delivered_date'] < df_olist['shipping_limit_dt'], 'status_entrega'] = 'ADIANTADO'\n",
    "df_olist.loc[df_olist['order_delivered_date'] == df_olist['shipping_limit_dt'], 'status_entrega'] = 'DENTRO DO ESPERADO'\n",
    "df_olist"
   ]
  },
  {
   "cell_type": "code",
   "execution_count": null,
   "metadata": {},
   "outputs": [],
   "source": [
    "df_olist[\"status_entrega\"].value_counts(normalize=True)*100"
   ]
  }
 ],
 "metadata": {
  "kernelspec": {
   "display_name": "Python 3",
   "language": "python",
   "name": "python3"
  },
  "language_info": {
   "codemirror_mode": {
    "name": "ipython",
    "version": 3
   },
   "file_extension": ".py",
   "mimetype": "text/x-python",
   "name": "python",
   "nbconvert_exporter": "python",
   "pygments_lexer": "ipython3",
   "version": "3.12.3"
  }
 },
 "nbformat": 4,
 "nbformat_minor": 2
}
