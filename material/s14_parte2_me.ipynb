{
 "cells": [
  {
   "cell_type": "markdown",
   "id": "daf030af-35da-4f4c-a4b0-5de2e6f34898",
   "metadata": {},
   "source": [
    "# Analisando os dados da Olist\n",
    "\n",
    "Para a nossa segunda parte da aula, iremos trabalhar em cima de uma base de dados disponibilizada pela Olist, uma empresa de e-commerce. Essa base de dados\n",
    "é composta por 9 tabelas, conforme o seguinte esquema:\n",
    "\n",
    "<center>\n",
    "<img src=banco_de_dados_olist.png width=700>\n",
    "</center>\n",
    "\n",
    "Essa base de dados é uma base mais segmentada e é o que mais se aproxima da análise de dados do dia-a-dia de uma pessoa que trabalha com dados no mundo corporativo. Com essas tabelas, precisaremos fazer manipulações de dados de forma mais minuciona que aquela que fizemos pela manhã. Vamos lá!"
   ]
  },
  {
   "cell_type": "markdown",
   "id": "6166142c-6155-4371-8376-5ab2aaad012b",
   "metadata": {},
   "source": [
    "Para ter acesso à base de dados, acesse: https://www.kaggle.com/datasets/olistbr/brazilian-ecommerce, ou baixe através do link:\n",
    "\n",
    " https://drive.google.com/drive/folders/1RuibSOdMp-cR6niAdbH8bRIj3PO4EOlh?usp=sharing\n"
   ]
  },
  {
   "cell_type": "markdown",
   "id": "0d6cb4bd-0aa8-4183-bb9d-8c30cf928bf1",
   "metadata": {},
   "source": [
    "# Coleta dos Dados"
   ]
  },
  {
   "cell_type": "markdown",
   "id": "d22b6b80-f2cc-42c4-a3e1-fc77f92ecef2",
   "metadata": {},
   "source": [
    "Nossa base de dados da Olist é composta por 9 tabelas diferentes, nelas temos informações de:\n",
    "- pedidos (olist_orders_dataset)\n",
    "- itens dos pedidos (olist_order_items_dataset)\n",
    "- review dos usuários sobre os pedidos (olist_order_reviews_dataset)\n",
    "- detalhes de pagamento dos pedidos (olist_order_payments_dataset)\n",
    "- detalhes do consumidor que fez os pedidos (olist_customers_dataset)\n",
    "- detalhes de geolocalização do consumidor (olist_geolocation_dataset)\n",
    "- detalhes dos produtos (olist_products_dataset)\n",
    "- detalhes dos vendedores (olist_sellers_dataset)\n",
    "\n",
    "Nesta aula, iremos focar em três datasets, o de pedidos (olist_orders_dataset), itens do pedido (olist_order_items_dataset) e o de consumidor (olist_customers_dataset). Vamos lá!"
   ]
  },
  {
   "cell_type": "code",
   "execution_count": null,
   "id": "79fa9794-5c8b-4673-99ea-e126ddff12e5",
   "metadata": {},
   "outputs": [],
   "source": [
    "import pandas as pd"
   ]
  },
  {
   "cell_type": "markdown",
   "id": "754c23dc-f03f-452a-b7d7-1b2a7f199fee",
   "metadata": {},
   "source": [
    "Para a tabela de pedidos, iremos utilizar as seguintes colunas:\n",
    "\n",
    "- **order_id**: Identificador do pedido\n",
    "- **customer_id**: Identificador do cliente. Essa coluna é importante pois será a nossa chave com a tabela de consumidor\n",
    "- **order_status**: Status do pedido\n",
    "- **order_purchase_timestamp**: timestamp que a compra foi feita\n",
    "- **order_estimated_delivered_date**: data prevista para a entrega da compra ao cliente\n",
    "- **order_delivered_customer_date**: timestamp que a compra foi entregue ao cliente"
   ]
  },
  {
   "cell_type": "code",
   "execution_count": null,
   "id": "6ad52907-0da5-4e5d-bbf4-077b1fb79773",
   "metadata": {},
   "outputs": [],
   "source": [
    "df_pedidos = pd.read_csv('dados/olist_orders_dataset.csv')\n",
    "df_pedidos"
   ]
  },
  {
   "cell_type": "markdown",
   "id": "52ad19f9",
   "metadata": {},
   "source": [
    "Vamos ver como estão nossos dados com o `describe`?"
   ]
  },
  {
   "cell_type": "code",
   "execution_count": null,
   "id": "dfacddd8",
   "metadata": {},
   "outputs": [],
   "source": [
    "df_pedidos.describe(include='all')"
   ]
  },
  {
   "cell_type": "markdown",
   "id": "c590d71e-f8ad-40c3-ba32-79da2ff7a3bb",
   "metadata": {},
   "source": [
    "Para a tabela de itens dos pedidos, iremos utilizar as seguintes colunas:\n",
    "\n",
    "- **order_id**: Identificador do pedido. Será a nossa chave com a tabela de pedidos\n",
    "- **product_id**: Identificador do produto\n",
    "- **seller_id**: Identificador do vendedor\n",
    "- **shipping_limit_date**: timestamp limite para a entrega do pedido\n",
    "- **price**: valor do pedido\n",
    "- **freight_value**: valor do frete"
   ]
  },
  {
   "cell_type": "code",
   "execution_count": null,
   "id": "61e589ac-aa0d-4e11-ad17-ea896414d9e6",
   "metadata": {},
   "outputs": [],
   "source": [
    "df_itens_pedido = pd.read_csv('dados/olist_order_items_dataset.csv')\n",
    "df_itens_pedido"
   ]
  },
  {
   "cell_type": "code",
   "execution_count": null,
   "id": "9db1a493",
   "metadata": {},
   "outputs": [],
   "source": [
    "df_itens_pedido.describe(include='all')"
   ]
  },
  {
   "cell_type": "markdown",
   "id": "b1999b26-8dcd-48b3-978f-6be4ea9afd76",
   "metadata": {},
   "source": [
    "Para a tabela de consumidor, iremos utilizar as seguintes colunas:\n",
    "\n",
    "- **customer_id**: Identificador do cliente. Essa coluna é importante pois será a nossa chave com a tabela de pedidos. \n",
    "- **customer_state**: Estado\n",
    "- **customer_city**: Cidade"
   ]
  },
  {
   "cell_type": "code",
   "execution_count": null,
   "id": "5e543be1-db9a-4ef4-a2bf-70e9e4fbbcfd",
   "metadata": {},
   "outputs": [],
   "source": [
    "df_consumidor = pd.read_csv('dados/olist_customers_dataset.csv')\n",
    "df_consumidor"
   ]
  },
  {
   "cell_type": "code",
   "execution_count": null,
   "id": "570ba108",
   "metadata": {},
   "outputs": [],
   "source": [
    "df_consumidor.describe(include='all')"
   ]
  },
  {
   "cell_type": "markdown",
   "id": "fb47c6a7",
   "metadata": {},
   "source": [
    "## Joins entre tabelas\n",
    "\n",
    "<img src=\"joins.png\" text=\"https://www.youtube.com/watch?v=F2szczrXXqQ&list=PLNcg_FV9n7qZJqrKcUUCWCWPYCrlcVm9v&index=35\" width=700px>"
   ]
  },
  {
   "cell_type": "code",
   "execution_count": null,
   "id": "95be25a7",
   "metadata": {},
   "outputs": [],
   "source": [
    "df_a = pd.DataFrame({'id_a': [1,2,3,4,8]})\n",
    "df_a"
   ]
  },
  {
   "cell_type": "code",
   "execution_count": null,
   "id": "c8d5da50",
   "metadata": {},
   "outputs": [],
   "source": [
    "df_b = pd.DataFrame({'id_b': [1,2,3,4,5,6]})\n",
    "df_b"
   ]
  },
  {
   "cell_type": "code",
   "execution_count": null,
   "id": "c239ec9b",
   "metadata": {},
   "outputs": [],
   "source": [
    "df_uniao = pd.merge(df_a, df_b, left_on='id_a', right_on='id_b', how='inner')\n",
    "df_uniao"
   ]
  },
  {
   "cell_type": "code",
   "execution_count": null,
   "id": "64b31bcb",
   "metadata": {},
   "outputs": [],
   "source": [
    "df_esquerda = pd.merge(df_a, df_b, left_on='id_a', right_on='id_b', how='left')\n",
    "df_esquerda"
   ]
  },
  {
   "cell_type": "code",
   "execution_count": null,
   "id": "545699b7",
   "metadata": {},
   "outputs": [],
   "source": [
    "df_direita = pd.merge(df_a, df_b, left_on='id_a', right_on='id_b', how='right')\n",
    "df_direita"
   ]
  },
  {
   "cell_type": "code",
   "execution_count": null,
   "id": "06b0b703",
   "metadata": {},
   "outputs": [],
   "source": [
    "df_tudo = pd.merge(df_a, df_b, left_on='id_a', right_on='id_b', how='outer')\n",
    "df_tudo"
   ]
  },
  {
   "cell_type": "markdown",
   "id": "81fc0393",
   "metadata": {},
   "source": [
    "Vamos, agora, juntar a base de pedidos com a de itens. Quais tipos de join são os mais indicados para utilizarmos? Quais colunas devemos usar nesse merge? "
   ]
  },
  {
   "cell_type": "code",
   "execution_count": null,
   "id": "2c71de69",
   "metadata": {},
   "outputs": [],
   "source": []
  },
  {
   "cell_type": "markdown",
   "id": "c145c383",
   "metadata": {},
   "source": [
    "**Atividade:**\n",
    "Juntar a base de pedidos com a de consumidores. Quais tipos de join são os mais indicados para utilizarmos? Quais colunas devemos usar nesse merge? "
   ]
  },
  {
   "cell_type": "code",
   "execution_count": null,
   "id": "a7cc76ad",
   "metadata": {},
   "outputs": [],
   "source": []
  },
  {
   "cell_type": "markdown",
   "id": "8a05e8ee-7c32-4cda-a1bc-4759d45eec00",
   "metadata": {},
   "source": [
    "# Objetivo da nossa Análise Exploratória:\n",
    "\n",
    "Lembra que pela manhã comentamos a necessidade de estabelecer nossas perguntas para direcionar nossas análises? Para essa segunda parte da aula, buscaremos responder perguntas simples com base nessas 3 tabelas:\n",
    "\n",
    "- Qual a frequência de compra dos clientes na plataforma da Olist no ano de 2017?\n",
    "- Qual é o valor médio das compras desses clientes?  \n",
    "- O número de vendas varia de acordo com a época do ano?\n",
    "- O tempo limite de entrega das compras está sendo respeitado?"
   ]
  },
  {
   "cell_type": "markdown",
   "id": "05695ac8-33d8-4093-9a9e-ef59f8dc953d",
   "metadata": {},
   "source": [
    "# Limpando os dados da Olist"
   ]
  },
  {
   "cell_type": "markdown",
   "id": "7a19fa15-983d-46da-b4af-59b5315b88c8",
   "metadata": {},
   "source": [
    "## Pedidos"
   ]
  },
  {
   "cell_type": "code",
   "execution_count": null,
   "id": "a95b133f-bab8-46d0-9e60-eecfef5f1420",
   "metadata": {},
   "outputs": [],
   "source": [
    "# Vamos entender um pouquinho melhor dos nossos dados\n",
    "df_pedidos.info()"
   ]
  },
  {
   "cell_type": "markdown",
   "id": "b67d45a5-7c4f-4ae0-9913-323025f57ff8",
   "metadata": {},
   "source": [
    "Estamos lidando com um dataset relativamente grande, com quase 100.000 linhas. Temos dados nulos nas colunas de data,\n",
    "o que faz sentido, pois nem todo o pedido realizado foi devidamente pago e finalizado. Por isso, algumas informações não estarão disponíveis. Por exemplo: um pedido que teve o pagamento negado, não terá dados de entrega. "
   ]
  },
  {
   "cell_type": "code",
   "execution_count": null,
   "id": "598f03ef",
   "metadata": {},
   "outputs": [],
   "source": [
    "df_pedidos[df_pedidos.order_approved_at.isna()]"
   ]
  },
  {
   "cell_type": "markdown",
   "id": "4200622f",
   "metadata": {},
   "source": [
    "Vamos começar nossa limpeza filtrando somente as colunas que desejamos utilizar\n"
   ]
  },
  {
   "cell_type": "code",
   "execution_count": null,
   "id": "475bdd28-d85e-4c97-8512-ceb67a2f179a",
   "metadata": {},
   "outputs": [],
   "source": [
    "columns_drop = ['order_approved_at', 'order_delivered_carrier_date', 'order_estimated_delivery_date']\n"
   ]
  },
  {
   "cell_type": "markdown",
   "id": "76908fed",
   "metadata": {},
   "source": [
    "Agora iremos filtrar somente aqueles pedidos que foram finalizados, mas antes é importante entender todos os status disponíveis que temos na base"
   ]
  },
  {
   "cell_type": "code",
   "execution_count": null,
   "id": "6b0bc2c0-ca98-4173-b0b7-89ae09ea7ec9",
   "metadata": {},
   "outputs": [],
   "source": []
  },
  {
   "cell_type": "code",
   "execution_count": null,
   "id": "e390e550",
   "metadata": {},
   "outputs": [],
   "source": []
  },
  {
   "cell_type": "markdown",
   "id": "b4cd6335",
   "metadata": {},
   "source": [
    "Filtrando apenas os pedidos que foram entregues\n"
   ]
  },
  {
   "cell_type": "code",
   "execution_count": null,
   "id": "063dac3d-200c-4978-9987-11fe2ea8f556",
   "metadata": {},
   "outputs": [],
   "source": []
  },
  {
   "cell_type": "markdown",
   "id": "7a28ddb7",
   "metadata": {},
   "source": [
    "Para fecharmos a limpeza dessa tabela de pedidos, precisamos criar uma coluna de mês e data de compra! Uma das perguntas que precisamos responder é se existe sazonalidade nas vendas, então, criar vamos criar uma coluna com a data (sem o horário) e outra truncada no início do mês para facilitar bastante nosso trabalho na etapa de análise:"
   ]
  },
  {
   "cell_type": "code",
   "execution_count": null,
   "id": "5ced8fac-cd8c-4f57-925f-2ea1a596b0ee",
   "metadata": {},
   "outputs": [],
   "source": []
  },
  {
   "cell_type": "markdown",
   "id": "58bcc966-8aff-432e-a58f-32dc42606df8",
   "metadata": {},
   "source": [
    "## Itens do Pedido"
   ]
  },
  {
   "cell_type": "code",
   "execution_count": null,
   "id": "a18a5a54-4c16-4d0c-b4f6-c36d45412f56",
   "metadata": {},
   "outputs": [],
   "source": [
    "# Vamos entender um pouquinho melhor dos nossos dados\n",
    "df_itens_pedido.info()"
   ]
  },
  {
   "cell_type": "markdown",
   "id": "f21d10d2-2260-4dfa-a0f2-1b241d59fb7a",
   "metadata": {},
   "source": [
    "Estamos lidando com um dataset um pouco maior que o de pedidos, o que faz sentido, pois nossa informação aqui está a nível de item, e um pedido pode ter 1 ou mais itens. Não temos dados nulos nessa tabela, mas isso não significa que aqui constam somente pedidos entregues, tá? Precisaremos filtrá-los em breve. "
   ]
  },
  {
   "cell_type": "markdown",
   "id": "b6ea3729-d5d3-4dc9-97d0-6433df814526",
   "metadata": {},
   "source": [
    "## Consumidor"
   ]
  },
  {
   "cell_type": "code",
   "execution_count": null,
   "id": "9e43c970-3417-4b9c-8d82-effe9c67d7b4",
   "metadata": {},
   "outputs": [],
   "source": [
    "# Vamos entender um pouquinho melhor dos nossos dados\n",
    "df_consumidor.info()"
   ]
  },
  {
   "cell_type": "code",
   "execution_count": null,
   "id": "e4f2d44f",
   "metadata": {},
   "outputs": [],
   "source": [
    "df_consumidor.head()"
   ]
  },
  {
   "cell_type": "markdown",
   "id": "3f17d044",
   "metadata": {},
   "source": [
    "Se nós repararmos na coluna `customer_zip_code_prefix`, o pandas a reconheceu como numérica, mas na verdade ela deveria ser uma string. Poderíamos utilizar o método `zfill` para preencher os valores com zero, mas como não sabemos se eram zeros à direita ou à esquerda a melhor solução é importar esses dados forçando que a coluna seja uma string. Para isso iremos utilizar o parâmetro `dtype` dentro do método `read_csv`."
   ]
  },
  {
   "cell_type": "code",
   "execution_count": null,
   "id": "f6210267",
   "metadata": {},
   "outputs": [],
   "source": [
    "df_consumidor = pd.read_csv('dados/olist_customers_dataset.csv', dtype={\"customer_zip_code_prefix\": \"string\"})\n",
    "df_consumidor"
   ]
  },
  {
   "cell_type": "markdown",
   "id": "1e495541",
   "metadata": {},
   "source": [
    "Essa coluna `customer_unique_id` não parece acrescentar nenhum informação, por isso vamos dropá-la!"
   ]
  },
  {
   "cell_type": "code",
   "execution_count": null,
   "id": "858fb618-8699-440a-af35-15d516aaed59",
   "metadata": {},
   "outputs": [],
   "source": [
    "df_consumidor = df_consumidor.drop('customer_unique_id', axis=1)\n",
    "df_consumidor"
   ]
  },
  {
   "cell_type": "markdown",
   "id": "83acbf5d-eec3-4d6c-a90f-41eef474ef22",
   "metadata": {},
   "source": [
    "## Juntando os três datasets"
   ]
  },
  {
   "cell_type": "markdown",
   "id": "b6863202-b92a-4798-aa12-115fad6e1bfe",
   "metadata": {},
   "source": [
    "Agora que fizemos a limpeza dos nossos três datasets, chegou a hora de juntarmos de acordo com a coluna em comum em cada um deles. Um ponto importante \n",
    "aqui é que queremos manter as informações que correspondem somente à pedidos **finalizados**. \n",
    "\n",
    "Para unir os 3 datasets usaremos o método `merge()`, precisamos entender qual é a coluna em comum entre os 3: no nosso caso, serão as colunas customer_id e order_id. \n",
    "\n"
   ]
  },
  {
   "cell_type": "code",
   "execution_count": null,
   "id": "49e98e5f-9663-4861-8995-16df74efcefa",
   "metadata": {},
   "outputs": [],
   "source": [
    "# Jutando os df pedidos e itens de pedidos\n"
   ]
  },
  {
   "cell_type": "code",
   "execution_count": null,
   "id": "64ab39f6",
   "metadata": {},
   "outputs": [],
   "source": [
    "# Jutando agora com os dados de consumidor\n"
   ]
  },
  {
   "cell_type": "code",
   "execution_count": null,
   "id": "aedd74e3-c64f-4c07-af8e-f18267de5e07",
   "metadata": {},
   "outputs": [],
   "source": [
    "# Exportando a base final\n",
    "df_olist.to_csv('base_final_s14_olist.csv', index=False)"
   ]
  },
  {
   "cell_type": "markdown",
   "id": "34312ae8-ce3b-45f7-8756-c98b6f18e10a",
   "metadata": {},
   "source": [
    "# Analisando os dados\n",
    "\n",
    "Agora chegou a hora de respondermos as perguntas que estipulamos no começo dessa análise:\n",
    "- Qual é o valor médio das compras desses clientes que tiveram os pedidos entregues?  \n",
    "- O número de vendas finalizadas varia de acordo com a época do ano?\n",
    "- O tempo limite de entrega das compras está sendo respeitado?"
   ]
  },
  {
   "cell_type": "markdown",
   "id": "1a59d2a3-879f-49d5-9082-027d4f8dedb6",
   "metadata": {},
   "source": [
    "### Qual é o valor médio das compras desses clientes? E qual o valor médio pago em frete?\n"
   ]
  },
  {
   "cell_type": "code",
   "execution_count": null,
   "id": "e54ccf66-1283-4bd0-a256-1127cb89d297",
   "metadata": {},
   "outputs": [],
   "source": [
    "# Aqui estamos buscando uma estatística descritiva, podemos utilizar a nossa função describe() para trazer essas informações\n"
   ]
  },
  {
   "cell_type": "code",
   "execution_count": null,
   "id": "e28ad416",
   "metadata": {},
   "outputs": [],
   "source": []
  },
  {
   "cell_type": "markdown",
   "id": "c66b47a6",
   "metadata": {},
   "source": [
    "Vamos dar uma olhada como é a distribuição dos preços?"
   ]
  },
  {
   "cell_type": "code",
   "execution_count": null,
   "id": "40f991ea",
   "metadata": {},
   "outputs": [],
   "source": [
    "import seaborn as sns\n",
    "import matplotlib.pyplot as plt"
   ]
  },
  {
   "cell_type": "markdown",
   "id": "276fcaea",
   "metadata": {},
   "source": [
    "O `histplot` divide os dados em intervalos (bins) e conta quantas observações caem em cada intervalo, criando um gráfico de barras que mostra a distribuição da variável, o famoso histograma.\n",
    "\n",
    "Ele é utilizado para analisar a **distribuição de variáveis numéricas**."
   ]
  },
  {
   "cell_type": "code",
   "execution_count": null,
   "id": "9c139500",
   "metadata": {},
   "outputs": [],
   "source": []
  },
  {
   "cell_type": "markdown",
   "id": "c92eac96-de34-4abc-84e7-dd5c39d94072",
   "metadata": {},
   "source": [
    "Apesar de termos pedidos com valores bem altos, como o caso do pedido no valor de R$ 6735, a média dos pedidos está cerca de 120 reais. O frete segue o mesmo padrão, sendo cerca de 10% do valor do pedido. \n",
    "\n",
    "Fazendo uma análise adicional aqui, pela coluna order_item_id, conseguimos observar a quantidade de itens que temos dentro de um pedido. A média de cada um desses pedidos é ter cerca de 1,2 itens. Sendo o seu máximo, um pedido que possui 21 itens iguais. "
   ]
  },
  {
   "cell_type": "markdown",
   "id": "bfabf48f-563b-4a9d-bef2-59bf7b45f028",
   "metadata": {},
   "source": [
    "### O número de vendas varia de acordo com a época do ano?\n",
    "\n",
    "<img src=calendario-sazonalidades.jpg width=600>\n",
    "\n",
    "Fonte: https://pagar.me/blog/como-lidar-com-a-sazonalidade-de-vendas-no-e-commerce/\n"
   ]
  },
  {
   "cell_type": "markdown",
   "id": "b04570ee",
   "metadata": {},
   "source": [
    "Agora, vamos fazer uma análise de sazonalidade. Será que o número de vendas aumenta ou diminui de acordo com a época do ano?\n"
   ]
  },
  {
   "cell_type": "code",
   "execution_count": null,
   "id": "b922c099-89fd-40d8-9330-b8b332ba11e3",
   "metadata": {},
   "outputs": [],
   "source": []
  },
  {
   "cell_type": "markdown",
   "id": "041eceee",
   "metadata": {},
   "source": [
    "O `lineplot` é uma função usada para criar gráficos de linha, sendo particularmente útil para visualizar séries temporais, que são dados coletados em intervalos de tempo sequenciais. Gráficos de linha são uma escolha comum para representar como uma variável numérica muda ao longo do tempo.\n",
    "\n",
    "Considerações: Se os dados forem coletados em diferentes frequências (diária, semanal, mensal), certifique-se de que eles estejam agregados ou preparados corretamente antes de criar o gráfico e certifique-se que os dados aparecem em ordem cronológica."
   ]
  },
  {
   "cell_type": "code",
   "execution_count": null,
   "id": "c8bd25bb",
   "metadata": {},
   "outputs": [],
   "source": []
  },
  {
   "cell_type": "markdown",
   "id": "ddd0f878",
   "metadata": {},
   "source": [
    "Não parece existir um padrão de vendas ao longo dos anos e a tendência de crescimento da curva, pode dificultar a visualização de uma sazonalidade mensal. Vamos agora analisar as vendas por dia."
   ]
  },
  {
   "cell_type": "code",
   "execution_count": null,
   "id": "026391da",
   "metadata": {},
   "outputs": [],
   "source": []
  },
  {
   "cell_type": "code",
   "execution_count": null,
   "id": "7bbcdac1",
   "metadata": {},
   "outputs": [],
   "source": []
  },
  {
   "cell_type": "markdown",
   "id": "b2822c46",
   "metadata": {},
   "source": [
    "Olhando esse gráfico o que podemos observar?"
   ]
  },
  {
   "cell_type": "code",
   "execution_count": null,
   "id": "7bcc533c",
   "metadata": {},
   "outputs": [],
   "source": []
  },
  {
   "cell_type": "markdown",
   "id": "400ebc56",
   "metadata": {},
   "source": [
    "Parece que temos uma sazonalidade semanal nas vendas. Quais são os dias com mais e menos vendas?"
   ]
  },
  {
   "cell_type": "code",
   "execution_count": null,
   "id": "dece438f",
   "metadata": {},
   "outputs": [],
   "source": []
  },
  {
   "cell_type": "code",
   "execution_count": null,
   "id": "2ecab500",
   "metadata": {},
   "outputs": [],
   "source": []
  },
  {
   "cell_type": "markdown",
   "id": "650d6cdb",
   "metadata": {},
   "source": [
    "Vamos agora agrupar nossos dados pelos meses do ano e ver se tem algum mês com mais frequência de vendas:"
   ]
  },
  {
   "cell_type": "code",
   "execution_count": null,
   "id": "18ba5431",
   "metadata": {},
   "outputs": [],
   "source": []
  },
  {
   "cell_type": "code",
   "execution_count": null,
   "id": "c4fdc475",
   "metadata": {},
   "outputs": [],
   "source": []
  },
  {
   "cell_type": "markdown",
   "id": "c0438d5e",
   "metadata": {},
   "source": [
    "As vendas parecem cair nos meses finais do ano. Isso acontece em todos os anos?"
   ]
  },
  {
   "cell_type": "code",
   "execution_count": null,
   "id": "bd69c202",
   "metadata": {},
   "outputs": [],
   "source": []
  },
  {
   "cell_type": "code",
   "execution_count": null,
   "id": "7c88d5a1",
   "metadata": {},
   "outputs": [],
   "source": []
  },
  {
   "cell_type": "markdown",
   "id": "9cb66299",
   "metadata": {},
   "source": [
    "Como podemos ver, os dados não estão completos nem para 2016 e nem 2018, dificultando nossa análise sobre quais meses vendem mais. O fato de termos uma tendência de crescimento e não termos os meses finais de 2018, fez com que o gráfico anterior aparentasse que havia uma maior venda nos meses iniciais dos anos. E essa conclusão estava errada."
   ]
  },
  {
   "cell_type": "markdown",
   "id": "b15bb513-593a-4a37-9737-4c9de881523e",
   "metadata": {},
   "source": [
    "### O tempo limite de entrega das compras está sendo respeitado?\n",
    "Para essa análise, iremos criar uma classificação para o status do frete, sendo: ATRASADO, ADIANTADO e DENTRO DO ESPERADO utilizando as colunas `shipping_limit_dt` e `order_delivered_date`, e então iremos observar a proporção dos pedidos para cada status."
   ]
  },
  {
   "cell_type": "code",
   "execution_count": null,
   "id": "a8b7d4a6-f899-4019-816a-97584718318b",
   "metadata": {},
   "outputs": [],
   "source": [
    "df_olist['order_delivered_customer_date'] = pd.to_datetime(df_olist['order_delivered_customer_date'])\n",
    "df_olist['order_delivered_date'] = df_olist['order_delivered_customer_date'].dt.date\n",
    "\n",
    "df_olist['shipping_limit_dt'] = pd.to_datetime(df_olist['shipping_limit_date']).dt.date\n",
    "\n",
    "# condicional\n",
    "df_olist.loc[df_olist['order_delivered_date'] > df_olist['shipping_limit_dt'], 'status_entrega'] = 'ATRASADO'\n",
    "df_olist.loc[df_olist['order_delivered_date'] < df_olist['shipping_limit_dt'], 'status_entrega'] = 'ADIANTADO'\n",
    "df_olist.loc[df_olist['order_delivered_date'] == df_olist['shipping_limit_dt'], 'status_entrega'] = 'DENTRO DO ESPERADO'\n",
    "df_olist"
   ]
  },
  {
   "cell_type": "code",
   "execution_count": null,
   "id": "32ab7765-704d-4e23-9dee-733b6fc6f064",
   "metadata": {},
   "outputs": [],
   "source": [
    "df_olist[\"status_entrega\"].value_counts(normalize=True)*100"
   ]
  },
  {
   "cell_type": "markdown",
   "id": "d2a5a7ef",
   "metadata": {},
   "source": [
    "Ou seja, cerca de 72% dos pedidos chegam atrasados na casa dos consumidores. É interessante entender o padrão aqui, esse status se mantém de acordo com a cidade? O quanto esse status mudaria se olhassemos para uma cidade grande tipo São Paulo? E por mês? Esses atrasos estão aumentando, diminuindo ou estão estáveis ao longo do tempo?"
   ]
  },
  {
   "cell_type": "markdown",
   "id": "bb3b8b06-b7c7-4e5c-96e1-34f365312d0e",
   "metadata": {},
   "source": [
    "# Dinâmica: Explorando os dados da Olist\n",
    "\n",
    "Para essa dinâmica, vocês terão 30 minutos para continuar explorando a base que criamos durante essa aula. A ideia é que vocês estipulem 3 a 5 perguntas simples (diferentes da que fizemos em aula) e faça as análises necessárias para chegar em sua resposta. "
   ]
  },
  {
   "cell_type": "markdown",
   "id": "4b687b3f-a1cc-4e97-b16d-4772d579064a",
   "metadata": {},
   "source": [
    "# Dinâmica: Visualizações dos dados da Olist\n",
    "\n",
    "Para essa dinâmica, vocês terão 40 minutos para criar as visualizações da base que criamos nessa aula (e com qualquer incremento que vocês fizeram à base na dinâmica anterior). \n",
    "\n",
    "Crie visualizações que te ajudem à responder as perguntas que vocês fizeram na dinâmica anterior. Utilize os conhecimentos da base da Netflix que fizemos pela manhã para criar seus próprios gráficos.\n"
   ]
  },
  {
   "cell_type": "markdown",
   "id": "b8a2d0ef-41cb-4fd9-b944-4fe29c3910d7",
   "metadata": {},
   "source": [
    "# Desafio da Semana\n",
    "\n",
    "Objetivo: Sedimentar os conhecimentos de Análise de Dados que aprendemos nessa aula. \n",
    "\n",
    "Desafio: Criar um notebook de análise exploratória (como fizemos na nossa aula de hoje) com todas as etapas de coleta, limpeza, análise e visualização com base de dados da Olist.\n",
    "\n",
    "Requisitos: \n",
    "- Formular o mínimo de 4 perguntas para responder com suas análises;\n",
    "- Utilizar pelo menos 3 bases de dados da Olist (caso você deseje criar sua base do zero). Caso deseje continuar utilizando a que criamos em aula, é necessário incluir pelo menos mais 2 tabelas para enriquecer sua análise.   \n",
    "- Criar pelo menos 3 gráficos.\n",
    "- Exporte sua base final.\n",
    "\n",
    "\n",
    "Submeta uma pasta que contenha: \n",
    "- o arquivo .ipynb com sua análise exploratória rodada, ou seja, com as respostas aparecendo no notebook;\n",
    "- interpretações observadas a partir dos gráficos dentro do notebook;\n",
    "- a base final criada por você no formato .csv;\n",
    "- especificar quais bases da olist foram usadas;\n"
   ]
  },
  {
   "cell_type": "markdown",
   "id": "cca3ba29",
   "metadata": {},
   "source": []
  }
 ],
 "metadata": {
  "kernelspec": {
   "display_name": "Python 3 (ipykernel)",
   "language": "python",
   "name": "python3"
  },
  "language_info": {
   "codemirror_mode": {
    "name": "ipython",
    "version": 3
   },
   "file_extension": ".py",
   "mimetype": "text/x-python",
   "name": "python",
   "nbconvert_exporter": "python",
   "pygments_lexer": "ipython3",
   "version": "3.12.5"
  }
 },
 "nbformat": 4,
 "nbformat_minor": 5
}
